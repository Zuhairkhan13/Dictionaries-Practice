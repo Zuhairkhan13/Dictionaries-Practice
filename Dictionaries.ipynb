{
 "cells": [
  {
   "cell_type": "code",
   "execution_count": 11,
   "id": "1f771379",
   "metadata": {},
   "outputs": [
    {
     "name": "stdout",
     "output_type": "stream",
     "text": [
      "Zuhair\n",
      "Zuhair\n",
      "dict_keys(['Name', 'last_name', 'Father_name'])\n",
      "dict_values(['Zuhair', 'Khan', 'khursheed'])\n"
     ]
    }
   ],
   "source": [
    "dic = {\n",
    "    \"Name\":\"Zuhair\",\n",
    "    \"last_name\":\"Khan\",\n",
    "    \"Father_name\":\"khursheed\"\n",
    "}\n",
    "print(dic[\"Name\"])\n",
    "print(dic.get(\"Name\")) # agar key nahi hay to none\n",
    "print(dic.keys())\n",
    "print(dic.values())"
   ]
  },
  {
   "cell_type": "code",
   "execution_count": 19,
   "id": "273dd516",
   "metadata": {},
   "outputs": [
    {
     "name": "stdout",
     "output_type": "stream",
     "text": [
      "Name is Zuhair\n",
      "last_name is Khan\n",
      "Father_name is khursheed\n"
     ]
    }
   ],
   "source": [
    "for key in dic.keys():\n",
    "    print(f\"{key} is {dic[key]}\")"
   ]
  },
  {
   "cell_type": "code",
   "execution_count": 20,
   "id": "8feb0f31",
   "metadata": {},
   "outputs": [
    {
     "name": "stdout",
     "output_type": "stream",
     "text": [
      "dict_items([('Name', 'Zuhair'), ('last_name', 'Khan'), ('Father_name', 'khursheed')])\n"
     ]
    }
   ],
   "source": [
    "print(dic.items())"
   ]
  },
  {
   "cell_type": "code",
   "execution_count": 24,
   "id": "10082d79",
   "metadata": {},
   "outputs": [
    {
     "name": "stdout",
     "output_type": "stream",
     "text": [
      "Name is Zuhair\n",
      "last_name is Khan\n",
      "Father_name is khursheed\n"
     ]
    }
   ],
   "source": [
    "for key,value in dic.items():\n",
    "    print(f\"{key} is {value}\")"
   ]
  },
  {
   "cell_type": "markdown",
   "id": "505e3c3c",
   "metadata": {},
   "source": [
    "# Method"
   ]
  },
  {
   "cell_type": "code",
   "execution_count": 47,
   "id": "3f6d8d17",
   "metadata": {},
   "outputs": [
    {
     "name": "stdout",
     "output_type": "stream",
     "text": [
      "{1: 10, 2: 80, 8: 60, 4: 40, 5: 50, 10: 100, 9: 90, 3: 30, 7: 70, 6: 60}\n"
     ]
    }
   ],
   "source": [
    "num  = {1:10,2:80,8:60,4:40,5:50}\n",
    "num2 ={10:100,9:90,3:30,7:70,6:60}\n",
    "num.update(num2)\n",
    "print(num)"
   ]
  },
  {
   "cell_type": "code",
   "execution_count": 48,
   "id": "2600677b",
   "metadata": {},
   "outputs": [
    {
     "data": {
      "text/plain": [
       "{1: 10, 2: 80, 8: 60, 4: 40, 5: 50, 10: 100, 9: 90, 3: 30, 7: 70, 6: 60}"
      ]
     },
     "execution_count": 48,
     "metadata": {},
     "output_type": "execute_result"
    }
   ],
   "source": [
    "num2.clear()\n",
    "num"
   ]
  },
  {
   "cell_type": "code",
   "execution_count": 49,
   "id": "26a64ff7",
   "metadata": {},
   "outputs": [
    {
     "data": {
      "text/plain": [
       "(6, 60)"
      ]
     },
     "execution_count": 49,
     "metadata": {},
     "output_type": "execute_result"
    }
   ],
   "source": [
    "num.pop(1)\n",
    "num.popitem()"
   ]
  },
  {
   "cell_type": "code",
   "execution_count": 50,
   "id": "d454d7a9",
   "metadata": {},
   "outputs": [
    {
     "name": "stdout",
     "output_type": "stream",
     "text": [
      "{2: 80, 8: 60, 4: 40, 5: 50, 10: 100, 9: 90, 3: 30, 7: 70}\n"
     ]
    }
   ],
   "source": [
    "print(num)"
   ]
  },
  {
   "cell_type": "code",
   "execution_count": 51,
   "id": "bd0eaab6",
   "metadata": {},
   "outputs": [],
   "source": [
    "#del num"
   ]
  },
  {
   "cell_type": "code",
   "execution_count": 52,
   "id": "6b640dae",
   "metadata": {},
   "outputs": [],
   "source": [
    "#num"
   ]
  },
  {
   "cell_type": "code",
   "execution_count": 53,
   "id": "2e7891c3",
   "metadata": {},
   "outputs": [],
   "source": [
    "del num[2]"
   ]
  },
  {
   "cell_type": "code",
   "execution_count": 54,
   "id": "de5a894a",
   "metadata": {},
   "outputs": [
    {
     "data": {
      "text/plain": [
       "{8: 60, 4: 40, 5: 50, 10: 100, 9: 90, 3: 30, 7: 70}"
      ]
     },
     "execution_count": 54,
     "metadata": {},
     "output_type": "execute_result"
    }
   ],
   "source": [
    "num"
   ]
  },
  {
   "cell_type": "code",
   "execution_count": 55,
   "id": "28bef243",
   "metadata": {},
   "outputs": [
    {
     "name": "stdout",
     "output_type": "stream",
     "text": [
      "40\n"
     ]
    },
    {
     "data": {
      "text/plain": [
       "40"
      ]
     },
     "execution_count": 55,
     "metadata": {},
     "output_type": "execute_result"
    }
   ],
   "source": [
    "print(num.get(4))\n",
    "num[4]"
   ]
  },
  {
   "cell_type": "code",
   "execution_count": 56,
   "id": "c730d817",
   "metadata": {},
   "outputs": [
    {
     "name": "stdout",
     "output_type": "stream",
     "text": [
      "dict_keys([8, 4, 5, 10, 9, 3, 7])\n",
      "dict_values([60, 40, 50, 100, 90, 30, 70])\n"
     ]
    }
   ],
   "source": [
    "print(num.keys())\n",
    "print(num.values())"
   ]
  },
  {
   "cell_type": "code",
   "execution_count": 57,
   "id": "3d96f2b2",
   "metadata": {},
   "outputs": [
    {
     "data": {
      "text/plain": [
       "{8: 60, 4: 40, 5: 50, 10: 100, 9: 90, 3: 30, 7: 70}"
      ]
     },
     "execution_count": 57,
     "metadata": {},
     "output_type": "execute_result"
    }
   ],
   "source": [
    "num.copy()"
   ]
  },
  {
   "cell_type": "code",
   "execution_count": 58,
   "id": "9c3666d7",
   "metadata": {},
   "outputs": [
    {
     "data": {
      "text/plain": [
       "{'Z': None, 'u': None, 'h': None, 'i': None, 'a': None, 'r': None}"
      ]
     },
     "execution_count": 58,
     "metadata": {},
     "output_type": "execute_result"
    }
   ],
   "source": [
    "numz= {\"z\":10,\"u\":20}\n",
    "numz.fromkeys(\"Zuhiar\")"
   ]
  },
  {
   "cell_type": "code",
   "execution_count": 61,
   "id": "7c2fdede",
   "metadata": {},
   "outputs": [
    {
     "data": {
      "text/plain": [
       "'10'"
      ]
     },
     "execution_count": 61,
     "metadata": {},
     "output_type": "execute_result"
    }
   ],
   "source": [
    "num.setdefault(\"1\",\"10\")#int pe kaam nahi karta sahi se"
   ]
  },
  {
   "cell_type": "code",
   "execution_count": 62,
   "id": "3a6404b8",
   "metadata": {},
   "outputs": [
    {
     "data": {
      "text/plain": [
       "{8: 60, 4: 40, 5: 50, 10: 100, 9: 90, 3: 30, 7: 70, '1': '10'}"
      ]
     },
     "execution_count": 62,
     "metadata": {},
     "output_type": "execute_result"
    }
   ],
   "source": [
    "num"
   ]
  },
  {
   "cell_type": "code",
   "execution_count": 63,
   "id": "53d2df5d",
   "metadata": {},
   "outputs": [
    {
     "data": {
      "text/plain": [
       "dict_items([(8, 60), (4, 40), (5, 50), (10, 100), (9, 90), (3, 30), (7, 70), ('1', '10')])"
      ]
     },
     "execution_count": 63,
     "metadata": {},
     "output_type": "execute_result"
    }
   ],
   "source": [
    "num.items()"
   ]
  },
  {
   "cell_type": "code",
   "execution_count": null,
   "id": "25037153",
   "metadata": {},
   "outputs": [],
   "source": []
  }
 ],
 "metadata": {
  "kernelspec": {
   "display_name": "Python 3 (ipykernel)",
   "language": "python",
   "name": "python3"
  },
  "language_info": {
   "codemirror_mode": {
    "name": "ipython",
    "version": 3
   },
   "file_extension": ".py",
   "mimetype": "text/x-python",
   "name": "python",
   "nbconvert_exporter": "python",
   "pygments_lexer": "ipython3",
   "version": "3.11.5"
  }
 },
 "nbformat": 4,
 "nbformat_minor": 5
}
